{
 "cells": [
  {
   "cell_type": "code",
   "execution_count": 1,
   "metadata": {},
   "outputs": [],
   "source": [
    "### BEGIN SOLUTION\n",
    "import os\n",
    "import pandas as pd\n",
    "import numpy as np\n",
    "### END SOLUTION"
   ]
  },
  {
   "cell_type": "code",
   "execution_count": 2,
   "metadata": {},
   "outputs": [
    {
     "name": "stdout",
     "output_type": "stream",
     "text": [
      "C:\\Users\\avirnsx\\Desktop\\Advanced Data Storage\\Homework\\Instructions\n"
     ]
    }
   ],
   "source": [
    " # Grab a reference to the current directory\n",
    "### BEGIN SOLUTION\n",
    "rootdir = os.getcwd()\n",
    "print(rootdir)\n",
    "### END SOLUTION"
   ]
  },
  {
   "cell_type": "code",
   "execution_count": 3,
   "metadata": {},
   "outputs": [
    {
     "name": "stdout",
     "output_type": "stream",
     "text": [
      "<nt.ScandirIterator object at 0x00000280F0BCDF80>\n"
     ]
    }
   ],
   "source": [
    "# Use `os.scandir` to get a list of all files in the current directory\n",
    "### BEGIN SOLUTION\n",
    "csvs = os.scandir(rootdir)\n",
    "print(csvs)\n",
    "### END SOLUTION"
   ]
  },
  {
   "cell_type": "code",
   "execution_count": 4,
   "metadata": {},
   "outputs": [],
   "source": [
    "# Iterate through the list and clean/process any CSV file using Pandas\n",
    "### BEGIN SOLUTION\n",
    "for csv in csvs:\n",
    "    # Only open CSV file extensions\n",
    "    if csv.name.endswith('.csv'):\n",
    "        # Read the CSV file\n",
    "        df = pd.read_csv(csv.path, dtype=object)\n",
    "\n",
    "        # Drop the location column since lat, lon, and elev already exist\n",
    "        if 'location' in df.columns:\n",
    "            df = df.drop(['location'], axis=1).reset_index(drop=True)\n",
    "        \n",
    "        # Use the mean to fill in any NaNs\n",
    "        df.fillna(df.mean(), inplace=True)\n",
    "\n",
    "        # Save the cleaned files with a `clean_` prefix\n",
    "        df.to_csv(os.path.join(rootdir, f\"clean_{csv.name}\"), index=False)\n",
    "### END SOLUTION\n",
    "\n",
    " "
   ]
  },
  {
   "cell_type": "code",
   "execution_count": 5,
   "metadata": {},
   "outputs": [
    {
     "name": "stdout",
     "output_type": "stream",
     "text": [
      "appclimate.py\n",
      "bar_plot_with_error_bars.png\n",
      "clean_clean_clean_hawaii_measurements.csv\n",
      "clean_clean_clean_hawaii_stations.csv\n",
      "clean_clean_hawaii_measurements.csv\n",
      "clean_clean_hawaii_stations.csv\n",
      "clean_hawaii_measurements.csv\n",
      "clean_hawaii_stations.csv\n",
      "climate_starter.ipynb\n",
      "datacleansing.ipynb\n",
      "dbeng.ipynb\n",
      "hawaii.sqlite\n",
      "hawaii_measurements.csv\n",
      "hawaii_stations.csv\n",
      "Images\n",
      "README.md\n",
      "Resources\n"
     ]
    }
   ],
   "source": [
    "# Verify that the cleaned files were created\n",
    "!ls"
   ]
  },
  {
   "cell_type": "code",
   "execution_count": null,
   "metadata": {},
   "outputs": [],
   "source": []
  },
  {
   "cell_type": "code",
   "execution_count": null,
   "metadata": {},
   "outputs": [],
   "source": []
  },
  {
   "cell_type": "code",
   "execution_count": null,
   "metadata": {},
   "outputs": [],
   "source": []
  }
 ],
 "metadata": {
  "kernelspec": {
   "display_name": "Python 3",
   "language": "python",
   "name": "python3"
  },
  "language_info": {
   "codemirror_mode": {
    "name": "ipython",
    "version": 3
   },
   "file_extension": ".py",
   "mimetype": "text/x-python",
   "name": "python",
   "nbconvert_exporter": "python",
   "pygments_lexer": "ipython3",
   "version": "3.6.6"
  }
 },
 "nbformat": 4,
 "nbformat_minor": 2
}
